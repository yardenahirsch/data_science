{
 "cells": [
  {
   "cell_type": "markdown",
   "metadata": {},
   "source": [
    "# Prediction: "
   ]
  },
  {
   "cell_type": "markdown",
   "metadata": {},
   "source": [
    "Goal: To be able to predict if a new coder is a female or male according to their university major. "
   ]
  },
  {
   "cell_type": "code",
   "execution_count": 1,
   "metadata": {
    "collapsed": false
   },
   "outputs": [],
   "source": [
    "import numpy as np\n",
    "import pandas as pd\n",
    "import matplotlib.pyplot as plt\n",
    "import seaborn as sns\n",
    "%matplotlib inline\n",
    "from sklearn.cross_validation import train_test_split\n",
    "from sklearn.tree import DecisionTreeClassifier\n",
    "from sklearn.cross_validation import cross_val_score\n",
    "from sklearn.ensemble import GradientBoostingClassifier"
   ]
  },
  {
   "cell_type": "markdown",
   "metadata": {},
   "source": [
    "# Loading Data\n"
   ]
  },
  {
   "cell_type": "code",
   "execution_count": 2,
   "metadata": {
    "collapsed": false
   },
   "outputs": [],
   "source": [
    "all_df = pd.read_csv(\"2016_New_Coders_Survey.csv\", low_memory=False)"
   ]
  },
  {
   "cell_type": "code",
   "execution_count": 3,
   "metadata": {
    "collapsed": true
   },
   "outputs": [],
   "source": [
    "# creating a new df with only \"female\" \n",
    "female_df = all_df[all_df[\"Gender\"] == \"female\"]\n",
    "\n",
    "# create a new df with only \"male\"\n",
    "male_df = all_df[all_df[\"Gender\"] == \"male\"]\n",
    "\n",
    "# create a new df for other genders\n",
    "lgbtq_plus_df = all_df[all_df[\"Gender\"].apply(lambda x: x not in [\"female\", \"male\"])]"
   ]
  },
  {
   "cell_type": "code",
   "execution_count": 4,
   "metadata": {
    "collapsed": false
   },
   "outputs": [],
   "source": [
    "# Make a new dataframe that just has Degree and Gender columns\n",
    "all_df = all_df[[\"SchoolMajor\", \"Gender\"]]"
   ]
  },
  {
   "cell_type": "code",
   "execution_count": 5,
   "metadata": {
    "collapsed": false
   },
   "outputs": [],
   "source": [
    "# Create a list of top ten majors for each gender group\n",
    "top_majors_female = set(female_df[\"SchoolMajor\"].value_counts(normalize = True)[0:10].index.values)"
   ]
  },
  {
   "cell_type": "code",
   "execution_count": 6,
   "metadata": {
    "collapsed": false
   },
   "outputs": [
    {
     "data": {
      "text/plain": [
       "{'Business Administration',\n",
       " 'Computer Programming',\n",
       " 'Computer Science',\n",
       " 'Economics',\n",
       " 'Electrical Engineering',\n",
       " 'Electrical and Electronics Engineering',\n",
       " 'Engineering',\n",
       " 'Information Technology',\n",
       " 'Mechanical Engineering',\n",
       " 'Software Engineering'}"
      ]
     },
     "execution_count": 6,
     "metadata": {},
     "output_type": "execute_result"
    }
   ],
   "source": [
    "top_majors_male = set(male_df[\"SchoolMajor\"].value_counts(normalize = True)[0:10].index.values)\n",
    "top_majors_male"
   ]
  },
  {
   "cell_type": "code",
   "execution_count": 7,
   "metadata": {
    "collapsed": false
   },
   "outputs": [
    {
     "data": {
      "text/plain": [
       "{'Business Administration',\n",
       " 'Communication and Media Studies',\n",
       " 'Computer Science',\n",
       " 'Engineering',\n",
       " 'English',\n",
       " 'Information Technology',\n",
       " 'Math',\n",
       " 'Music',\n",
       " 'Philosophy',\n",
       " 'Psychology'}"
      ]
     },
     "execution_count": 7,
     "metadata": {},
     "output_type": "execute_result"
    }
   ],
   "source": [
    "top_majors_lgbtq_plus = set(lgbtq_plus_df[\"SchoolMajor\"].value_counts(normalize = True)[0:10].index.values)\n",
    "top_majors_lgbtq_plus"
   ]
  },
  {
   "cell_type": "code",
   "execution_count": 8,
   "metadata": {
    "collapsed": false
   },
   "outputs": [],
   "source": [
    "# create a set with all three top 10 majors without repitition using .union\n",
    "top_majors = top_majors_female.union(top_majors_male).union(top_majors_lgbtq_plus)"
   ]
  },
  {
   "cell_type": "code",
   "execution_count": 9,
   "metadata": {
    "collapsed": false
   },
   "outputs": [],
   "source": [
    "# Change the names of all the majors in our train and test dataset that are not in our top ten\n",
    "# using list comprehension.\n",
    "# Getting truth values: using lambda functions to find the truths and use list comp to get the\n",
    "# true values outside of the data frame\n",
    "truth_values = all_df[\"SchoolMajor\"].apply(lambda x: x not in top_majors)\n",
    "\n",
    "all_df[\"SchoolMajor\"][truth_values] = \"Other\""
   ]
  },
  {
   "cell_type": "code",
   "execution_count": 10,
   "metadata": {
    "collapsed": false
   },
   "outputs": [
    {
     "data": {
      "text/plain": [
       "array(['Other', 'English', 'Computer Science', 'Business Administration',\n",
       "       'Mechanical Engineering', 'Math', 'Economics', 'Music',\n",
       "       'Political Science', 'Information Technology', 'Graphic Design',\n",
       "       'Liberal Arts', 'Electrical Engineering', 'Biology', 'Engineering',\n",
       "       'Psychology', 'Philosophy', 'Software Engineering',\n",
       "       'Computer Programming', 'Electrical and Electronics Engineering',\n",
       "       'Communication and Media Studies'], dtype=object)"
      ]
     },
     "execution_count": 10,
     "metadata": {},
     "output_type": "execute_result"
    }
   ],
   "source": [
    "all_df[\"SchoolMajor\"].unique()"
   ]
  },
  {
   "cell_type": "code",
   "execution_count": 11,
   "metadata": {
    "collapsed": false
   },
   "outputs": [],
   "source": [
    "# dumbify\n",
    "# pandas dummy variables\n",
    "majors_df = pd.get_dummies(all_df['SchoolMajor'])\n",
    "all_df = pd.concat([majors_df, all_df], axis = 1)"
   ]
  },
  {
   "cell_type": "code",
   "execution_count": 12,
   "metadata": {
    "collapsed": false
   },
   "outputs": [],
   "source": [
    "# drop column \"SchoolMajor\"\n",
    "all_df = all_df.drop('SchoolMajor', 1)"
   ]
  },
  {
   "cell_type": "code",
   "execution_count": 13,
   "metadata": {
    "collapsed": false
   },
   "outputs": [
    {
     "data": {
      "text/html": [
       "<div>\n",
       "<table border=\"1\" class=\"dataframe\">\n",
       "  <thead>\n",
       "    <tr style=\"text-align: right;\">\n",
       "      <th></th>\n",
       "      <th>Biology</th>\n",
       "      <th>Business Administration</th>\n",
       "      <th>Communication and Media Studies</th>\n",
       "      <th>Computer Programming</th>\n",
       "      <th>Computer Science</th>\n",
       "      <th>Economics</th>\n",
       "      <th>Electrical Engineering</th>\n",
       "      <th>Electrical and Electronics Engineering</th>\n",
       "      <th>Engineering</th>\n",
       "      <th>English</th>\n",
       "      <th>...</th>\n",
       "      <th>Liberal Arts</th>\n",
       "      <th>Math</th>\n",
       "      <th>Mechanical Engineering</th>\n",
       "      <th>Music</th>\n",
       "      <th>Other</th>\n",
       "      <th>Philosophy</th>\n",
       "      <th>Political Science</th>\n",
       "      <th>Psychology</th>\n",
       "      <th>Software Engineering</th>\n",
       "      <th>Gender</th>\n",
       "    </tr>\n",
       "  </thead>\n",
       "  <tbody>\n",
       "    <tr>\n",
       "      <th>0</th>\n",
       "      <td>0.0</td>\n",
       "      <td>0.0</td>\n",
       "      <td>0.0</td>\n",
       "      <td>0.0</td>\n",
       "      <td>0.0</td>\n",
       "      <td>0.0</td>\n",
       "      <td>0.0</td>\n",
       "      <td>0.0</td>\n",
       "      <td>0.0</td>\n",
       "      <td>0.0</td>\n",
       "      <td>...</td>\n",
       "      <td>0.0</td>\n",
       "      <td>0.0</td>\n",
       "      <td>0.0</td>\n",
       "      <td>0.0</td>\n",
       "      <td>1.0</td>\n",
       "      <td>0.0</td>\n",
       "      <td>0.0</td>\n",
       "      <td>0.0</td>\n",
       "      <td>0.0</td>\n",
       "      <td>male</td>\n",
       "    </tr>\n",
       "    <tr>\n",
       "      <th>1</th>\n",
       "      <td>0.0</td>\n",
       "      <td>0.0</td>\n",
       "      <td>0.0</td>\n",
       "      <td>0.0</td>\n",
       "      <td>0.0</td>\n",
       "      <td>0.0</td>\n",
       "      <td>0.0</td>\n",
       "      <td>0.0</td>\n",
       "      <td>0.0</td>\n",
       "      <td>0.0</td>\n",
       "      <td>...</td>\n",
       "      <td>0.0</td>\n",
       "      <td>0.0</td>\n",
       "      <td>0.0</td>\n",
       "      <td>0.0</td>\n",
       "      <td>1.0</td>\n",
       "      <td>0.0</td>\n",
       "      <td>0.0</td>\n",
       "      <td>0.0</td>\n",
       "      <td>0.0</td>\n",
       "      <td>male</td>\n",
       "    </tr>\n",
       "    <tr>\n",
       "      <th>2</th>\n",
       "      <td>0.0</td>\n",
       "      <td>0.0</td>\n",
       "      <td>0.0</td>\n",
       "      <td>0.0</td>\n",
       "      <td>0.0</td>\n",
       "      <td>0.0</td>\n",
       "      <td>0.0</td>\n",
       "      <td>0.0</td>\n",
       "      <td>0.0</td>\n",
       "      <td>0.0</td>\n",
       "      <td>...</td>\n",
       "      <td>0.0</td>\n",
       "      <td>0.0</td>\n",
       "      <td>0.0</td>\n",
       "      <td>0.0</td>\n",
       "      <td>1.0</td>\n",
       "      <td>0.0</td>\n",
       "      <td>0.0</td>\n",
       "      <td>0.0</td>\n",
       "      <td>0.0</td>\n",
       "      <td>male</td>\n",
       "    </tr>\n",
       "    <tr>\n",
       "      <th>3</th>\n",
       "      <td>0.0</td>\n",
       "      <td>0.0</td>\n",
       "      <td>0.0</td>\n",
       "      <td>0.0</td>\n",
       "      <td>0.0</td>\n",
       "      <td>0.0</td>\n",
       "      <td>0.0</td>\n",
       "      <td>0.0</td>\n",
       "      <td>0.0</td>\n",
       "      <td>0.0</td>\n",
       "      <td>...</td>\n",
       "      <td>0.0</td>\n",
       "      <td>0.0</td>\n",
       "      <td>0.0</td>\n",
       "      <td>0.0</td>\n",
       "      <td>1.0</td>\n",
       "      <td>0.0</td>\n",
       "      <td>0.0</td>\n",
       "      <td>0.0</td>\n",
       "      <td>0.0</td>\n",
       "      <td>female</td>\n",
       "    </tr>\n",
       "    <tr>\n",
       "      <th>4</th>\n",
       "      <td>0.0</td>\n",
       "      <td>0.0</td>\n",
       "      <td>0.0</td>\n",
       "      <td>0.0</td>\n",
       "      <td>0.0</td>\n",
       "      <td>0.0</td>\n",
       "      <td>0.0</td>\n",
       "      <td>0.0</td>\n",
       "      <td>0.0</td>\n",
       "      <td>0.0</td>\n",
       "      <td>...</td>\n",
       "      <td>0.0</td>\n",
       "      <td>0.0</td>\n",
       "      <td>0.0</td>\n",
       "      <td>0.0</td>\n",
       "      <td>1.0</td>\n",
       "      <td>0.0</td>\n",
       "      <td>0.0</td>\n",
       "      <td>0.0</td>\n",
       "      <td>0.0</td>\n",
       "      <td>female</td>\n",
       "    </tr>\n",
       "  </tbody>\n",
       "</table>\n",
       "<p>5 rows × 22 columns</p>\n",
       "</div>"
      ],
      "text/plain": [
       "   Biology  Business Administration  Communication and Media Studies  \\\n",
       "0      0.0                      0.0                              0.0   \n",
       "1      0.0                      0.0                              0.0   \n",
       "2      0.0                      0.0                              0.0   \n",
       "3      0.0                      0.0                              0.0   \n",
       "4      0.0                      0.0                              0.0   \n",
       "\n",
       "   Computer Programming  Computer Science  Economics  Electrical Engineering  \\\n",
       "0                   0.0               0.0        0.0                     0.0   \n",
       "1                   0.0               0.0        0.0                     0.0   \n",
       "2                   0.0               0.0        0.0                     0.0   \n",
       "3                   0.0               0.0        0.0                     0.0   \n",
       "4                   0.0               0.0        0.0                     0.0   \n",
       "\n",
       "   Electrical and Electronics Engineering  Engineering  English   ...    \\\n",
       "0                                     0.0          0.0      0.0   ...     \n",
       "1                                     0.0          0.0      0.0   ...     \n",
       "2                                     0.0          0.0      0.0   ...     \n",
       "3                                     0.0          0.0      0.0   ...     \n",
       "4                                     0.0          0.0      0.0   ...     \n",
       "\n",
       "   Liberal Arts  Math  Mechanical Engineering  Music  Other  Philosophy  \\\n",
       "0           0.0   0.0                     0.0    0.0    1.0         0.0   \n",
       "1           0.0   0.0                     0.0    0.0    1.0         0.0   \n",
       "2           0.0   0.0                     0.0    0.0    1.0         0.0   \n",
       "3           0.0   0.0                     0.0    0.0    1.0         0.0   \n",
       "4           0.0   0.0                     0.0    0.0    1.0         0.0   \n",
       "\n",
       "   Political Science  Psychology  Software Engineering  Gender  \n",
       "0                0.0         0.0                   0.0    male  \n",
       "1                0.0         0.0                   0.0    male  \n",
       "2                0.0         0.0                   0.0    male  \n",
       "3                0.0         0.0                   0.0  female  \n",
       "4                0.0         0.0                   0.0  female  \n",
       "\n",
       "[5 rows x 22 columns]"
      ]
     },
     "execution_count": 13,
     "metadata": {},
     "output_type": "execute_result"
    }
   ],
   "source": [
    "all_df.head()"
   ]
  },
  {
   "cell_type": "code",
   "execution_count": 14,
   "metadata": {
    "collapsed": true
   },
   "outputs": [],
   "source": [
    "# create an array\n",
    "all_df_arr = all_df.values"
   ]
  },
  {
   "cell_type": "code",
   "execution_count": 15,
   "metadata": {
    "collapsed": false
   },
   "outputs": [],
   "source": [
    "features = all_df_arr[0::, 0:-1]\n",
    "target = list(all_df_arr[0::, -1])"
   ]
  },
  {
   "cell_type": "code",
   "execution_count": 16,
   "metadata": {
    "collapsed": false
   },
   "outputs": [
    {
     "data": {
      "text/plain": [
       "array([ 0.6891321 ,  0.68836406,  0.68908532])"
      ]
     },
     "execution_count": 16,
     "metadata": {},
     "output_type": "execute_result"
    }
   ],
   "source": [
    "clf1 = DecisionTreeClassifier(random_state=0)\n",
    "cross_val_score(clf1, features, target, cv=3)"
   ]
  },
  {
   "cell_type": "markdown",
   "metadata": {},
   "source": [
    "We can predict with 68% accuracy whether a new coder is female or male just based on their college major. This is significant because if more men have degrees related to CS and engineering then they have a better foundation and technical backgroup for a programming career. From applying to competative bootcamps who require technical backgrounds to an interview where both candidates have been studying programming for the same amount of time and have similar skills, but one has a degree related to CS and the other has a degree in English. This puts women who are new coders at a great disadvantage. In order to increase the number of female programmers, we need to look at this information and find good solutions to level the playing field for this generation of women who already have their first degree in an unrelated field, but have a desire to learn programming and work in high tech. \n",
    "\n",
    "I plan on adding hackathons and bootcamps as my next features to see if this increases my accuracy. My assumption is that primarily men attend these types of career building activities and that we then need to look at how to get more women involved. "
   ]
  },
  {
   "cell_type": "code",
   "execution_count": null,
   "metadata": {
    "collapsed": true
   },
   "outputs": [],
   "source": []
  }
 ],
 "metadata": {
  "kernelspec": {
   "display_name": "Python [Root]",
   "language": "python",
   "name": "Python [Root]"
  },
  "language_info": {
   "codemirror_mode": {
    "name": "ipython",
    "version": 2
   },
   "file_extension": ".py",
   "mimetype": "text/x-python",
   "name": "python",
   "nbconvert_exporter": "python",
   "pygments_lexer": "ipython2",
   "version": "2.7.12"
  }
 },
 "nbformat": 4,
 "nbformat_minor": 0
}
